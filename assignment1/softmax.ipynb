{
 "cells": [
  {
   "cell_type": "markdown",
   "metadata": {},
   "source": [
    "# Softmax exercise\n",
    "\n",
    "*Complete and hand in this completed worksheet (including its outputs and any supporting code outside of the worksheet) with your assignment submission. For more details see the [assignments page](http://vision.stanford.edu/teaching/cs231n/assignments.html) on the course website.*\n",
    "\n",
    "This exercise is analogous to the SVM exercise. You will:\n",
    "\n",
    "- implement a fully-vectorized **loss function** for the Softmax classifier\n",
    "- implement the fully-vectorized expression for its **analytic gradient**\n",
    "- **check your implementation** with numerical gradient\n",
    "- use a validation set to **tune the learning rate and regularization** strength\n",
    "- **optimize** the loss function with **SGD**\n",
    "- **visualize** the final learned weights\n"
   ]
  },
  {
   "cell_type": "code",
   "execution_count": 1,
   "metadata": {
    "collapsed": true
   },
   "outputs": [],
   "source": [
    "import random\n",
    "import numpy as np\n",
    "from cs231n.data_utils import load_CIFAR10\n",
    "import matplotlib.pyplot as plt\n",
    "\n",
    "from __future__ import print_function\n",
    "\n",
    "%matplotlib inline\n",
    "plt.rcParams['figure.figsize'] = (10.0, 8.0) # set default size of plots\n",
    "plt.rcParams['image.interpolation'] = 'nearest'\n",
    "plt.rcParams['image.cmap'] = 'gray'\n",
    "\n",
    "# for auto-reloading extenrnal modules\n",
    "# see http://stackoverflow.com/questions/1907993/autoreload-of-modules-in-ipython\n",
    "%load_ext autoreload\n",
    "%autoreload 2"
   ]
  },
  {
   "cell_type": "code",
   "execution_count": 2,
   "metadata": {},
   "outputs": [
    {
     "name": "stdout",
     "output_type": "stream",
     "text": [
      "Train data shape:  (49000, 3073)\n",
      "Train labels shape:  (49000,)\n",
      "Validation data shape:  (1000, 3073)\n",
      "Validation labels shape:  (1000,)\n",
      "Test data shape:  (1000, 3073)\n",
      "Test labels shape:  (1000,)\n",
      "dev data shape:  (500, 3073)\n",
      "dev labels shape:  (500,)\n"
     ]
    }
   ],
   "source": [
    "def get_CIFAR10_data(num_training=49000, num_validation=1000, num_test=1000, num_dev=500):\n",
    "    \"\"\"\n",
    "    Load the CIFAR-10 dataset from disk and perform preprocessing to prepare\n",
    "    it for the linear classifier. These are the same steps as we used for the\n",
    "    SVM, but condensed to a single function.  \n",
    "    \"\"\"\n",
    "    # Load the raw CIFAR-10 data\n",
    "    cifar10_dir = r'C:\\Users\\YANG\\Desktop\\machine learning dataset\\cifar-10-python\\cifar-10-batches-py'\n",
    "    X_train, y_train, X_test, y_test = load_CIFAR10(cifar10_dir)\n",
    "    \n",
    "    # subsample the data\n",
    "    mask = list(range(num_training, num_training + num_validation))\n",
    "    X_val = X_train[mask]\n",
    "    y_val = y_train[mask]\n",
    "    mask = list(range(num_training))\n",
    "    X_train = X_train[mask]\n",
    "    y_train = y_train[mask]\n",
    "    mask = list(range(num_test))\n",
    "    X_test = X_test[mask]\n",
    "    y_test = y_test[mask]\n",
    "    mask = np.random.choice(num_training, num_dev, replace=False)\n",
    "    X_dev = X_train[mask]\n",
    "    y_dev = y_train[mask]\n",
    "    \n",
    "    # Preprocessing: reshape the image data into rows\n",
    "    X_train = np.reshape(X_train, (X_train.shape[0], -1))\n",
    "    X_val = np.reshape(X_val, (X_val.shape[0], -1))\n",
    "    X_test = np.reshape(X_test, (X_test.shape[0], -1))\n",
    "    X_dev = np.reshape(X_dev, (X_dev.shape[0], -1))\n",
    "    \n",
    "    # Normalize the data: subtract the mean image\n",
    "    mean_image = np.mean(X_train, axis = 0)\n",
    "    X_train -= mean_image\n",
    "    X_val -= mean_image\n",
    "    X_test -= mean_image\n",
    "    X_dev -= mean_image\n",
    "    \n",
    "    # add bias dimension and transform into columns\n",
    "    X_train = np.hstack([X_train, np.ones((X_train.shape[0], 1))])\n",
    "    X_val = np.hstack([X_val, np.ones((X_val.shape[0], 1))])\n",
    "    X_test = np.hstack([X_test, np.ones((X_test.shape[0], 1))])\n",
    "    X_dev = np.hstack([X_dev, np.ones((X_dev.shape[0], 1))])\n",
    "    \n",
    "    return X_train, y_train, X_val, y_val, X_test, y_test, X_dev, y_dev\n",
    "\n",
    "\n",
    "# Invoke the above function to get our data.\n",
    "X_train, y_train, X_val, y_val, X_test, y_test, X_dev, y_dev = get_CIFAR10_data()\n",
    "print('Train data shape: ', X_train.shape)\n",
    "print('Train labels shape: ', y_train.shape)\n",
    "print('Validation data shape: ', X_val.shape)\n",
    "print('Validation labels shape: ', y_val.shape)\n",
    "print('Test data shape: ', X_test.shape)\n",
    "print('Test labels shape: ', y_test.shape)\n",
    "print('dev data shape: ', X_dev.shape)\n",
    "print('dev labels shape: ', y_dev.shape)"
   ]
  },
  {
   "cell_type": "markdown",
   "metadata": {},
   "source": [
    "## Softmax Classifier\n",
    "\n",
    "Your code for this section will all be written inside **cs231n/classifiers/softmax.py**. \n"
   ]
  },
  {
   "cell_type": "code",
   "execution_count": 3,
   "metadata": {},
   "outputs": [
    {
     "name": "stdout",
     "output_type": "stream",
     "text": [
      "loss: 2.388289\n",
      "sanity check: 2.302585\n"
     ]
    }
   ],
   "source": [
    "# First implement the naive softmax loss function with nested loops.\n",
    "# Open the file cs231n/classifiers/softmax.py and implement the\n",
    "# softmax_loss_naive function.\n",
    "\n",
    "from cs231n.classifiers.softmax import softmax_loss_naive\n",
    "import time\n",
    "\n",
    "# Generate a random softmax weight matrix and use it to compute the loss.\n",
    "W = np.random.randn(3073, 10) * 0.0001\n",
    "loss, grad = softmax_loss_naive(W, X_dev, y_dev, 0.0)\n",
    "\n",
    "# As a rough sanity check, our loss should be something close to -log(0.1).\n",
    "print('loss: %f' % loss)\n",
    "print('sanity check: %f' % (-np.log(0.1)))"
   ]
  },
  {
   "cell_type": "code",
   "execution_count": 4,
   "metadata": {
    "collapsed": true
   },
   "outputs": [],
   "source": [
    "#0.1 is due to the chance of gussing the right class out of 10 classes is 0.1"
   ]
  },
  {
   "cell_type": "code",
   "execution_count": 5,
   "metadata": {},
   "outputs": [
    {
     "name": "stdout",
     "output_type": "stream",
     "text": [
      "numerical: 1.044762 analytic: 1.044762, relative error: 3.644135e-08\n",
      "numerical: 2.581853 analytic: 2.581853, relative error: 1.816045e-08\n",
      "numerical: -1.549181 analytic: -1.549181, relative error: 1.189437e-08\n",
      "numerical: 1.962397 analytic: 1.962397, relative error: 1.400726e-08\n",
      "numerical: -2.160320 analytic: -2.160320, relative error: 2.548039e-08\n",
      "numerical: 0.018929 analytic: 0.018928, relative error: 1.429226e-06\n",
      "numerical: 2.449197 analytic: 2.449197, relative error: 1.673125e-08\n",
      "numerical: -0.577354 analytic: -0.577354, relative error: 2.591718e-08\n",
      "numerical: -1.685456 analytic: -1.685456, relative error: 3.987101e-09\n",
      "numerical: -1.898382 analytic: -1.898382, relative error: 2.571891e-08\n",
      "numerical: 0.786694 analytic: 0.786694, relative error: 9.126700e-08\n",
      "numerical: 1.800847 analytic: 1.800847, relative error: 3.391983e-08\n",
      "numerical: 1.613852 analytic: 1.613852, relative error: 1.665866e-08\n",
      "numerical: -1.690808 analytic: -1.690808, relative error: 2.750007e-08\n",
      "numerical: -1.503650 analytic: -1.503650, relative error: 9.354361e-09\n",
      "numerical: 2.210916 analytic: 2.210916, relative error: 1.116724e-08\n",
      "numerical: -2.305019 analytic: -2.305020, relative error: 3.645445e-08\n",
      "numerical: -0.487302 analytic: -0.487302, relative error: 1.477767e-09\n",
      "numerical: 2.432241 analytic: 2.432241, relative error: 1.451550e-08\n",
      "numerical: 0.382612 analytic: 0.382612, relative error: 3.225059e-09\n"
     ]
    }
   ],
   "source": [
    "# Complete the implementation of softmax_loss_naive and implement a (naive)\n",
    "# version of the gradient that uses nested loops.\n",
    "loss, grad = softmax_loss_naive(W, X_dev, y_dev, 0.0)\n",
    "\n",
    "# As we did for the SVM, use numeric gradient checking as a debugging tool.\n",
    "# The numeric gradient should be close to the analytic gradient.\n",
    "from cs231n.gradient_check import grad_check_sparse\n",
    "f = lambda w: softmax_loss_naive(w, X_dev, y_dev, 0.0)[0]\n",
    "grad_numerical = grad_check_sparse(f, W, grad, 10)\n",
    "\n",
    "# similar to SVM case, do another gradient check with regularization\n",
    "loss, grad = softmax_loss_naive(W, X_dev, y_dev, 5e1)\n",
    "f = lambda w: softmax_loss_naive(w, X_dev, y_dev, 5e1)[0]\n",
    "grad_numerical = grad_check_sparse(f, W, grad, 10)"
   ]
  },
  {
   "cell_type": "code",
   "execution_count": 6,
   "metadata": {},
   "outputs": [
    {
     "name": "stdout",
     "output_type": "stream",
     "text": [
      "naive loss: 2.388289e+00 computed in 0.031083s\n",
      "vectorized loss: 2.388289e+00 computed in 0.003013s\n",
      "Loss difference: 0.000000\n",
      "Gradient difference: 0.000000\n"
     ]
    }
   ],
   "source": [
    "# Now that we have a naive implementation of the softmax loss function and its gradient,\n",
    "# implement a vectorized version in softmax_loss_vectorized.\n",
    "# The two versions should compute the same results, but the vectorized version should be\n",
    "# much faster.\n",
    "tic = time.time()\n",
    "loss_naive, grad_naive = softmax_loss_naive(W, X_dev, y_dev, 0.000005)\n",
    "toc = time.time()\n",
    "print('naive loss: %e computed in %fs' % (loss_naive, toc - tic))\n",
    "\n",
    "from cs231n.classifiers.softmax import softmax_loss_vectorized\n",
    "tic = time.time()\n",
    "loss_vectorized, grad_vectorized = softmax_loss_vectorized(W, X_dev, y_dev, 0.000005)\n",
    "toc = time.time()\n",
    "print('vectorized loss: %e computed in %fs' % (loss_vectorized, toc - tic))\n",
    "\n",
    "# As we did for the SVM, we use the Frobenius norm to compare the two versions\n",
    "# of the gradient.\n",
    "grad_difference = np.linalg.norm(grad_naive - grad_vectorized, ord='fro')\n",
    "print('Loss difference: %f' % np.abs(loss_naive - loss_vectorized))\n",
    "print('Gradient difference: %f' % grad_difference)"
   ]
  },
  {
   "cell_type": "code",
   "execution_count": 7,
   "metadata": {},
   "outputs": [
    {
     "name": "stdout",
     "output_type": "stream",
     "text": [
      "iteration 0 / 1500: loss 311.350299\n",
      "iteration 100 / 1500: loss 13.944001\n",
      "iteration 200 / 1500: loss 2.442869\n",
      "iteration 300 / 1500: loss 2.052873\n",
      "iteration 400 / 1500: loss 2.050178\n",
      "iteration 500 / 1500: loss 2.027382\n",
      "iteration 600 / 1500: loss 1.981090\n",
      "iteration 700 / 1500: loss 1.961851\n",
      "iteration 800 / 1500: loss 2.100337\n",
      "iteration 900 / 1500: loss 1.980086\n",
      "iteration 1000 / 1500: loss 2.031896\n",
      "iteration 1100 / 1500: loss 1.994435\n",
      "iteration 1200 / 1500: loss 1.978826\n",
      "iteration 1300 / 1500: loss 2.044515\n",
      "iteration 1400 / 1500: loss 2.032398\n",
      "iteration 0 / 1500: loss 375.766170\n",
      "iteration 100 / 1500: loss 9.544669\n",
      "iteration 200 / 1500: loss 2.175300\n",
      "iteration 300 / 1500: loss 1.994603\n",
      "iteration 400 / 1500: loss 1.989031\n",
      "iteration 500 / 1500: loss 1.980946\n",
      "iteration 600 / 1500: loss 2.005299\n",
      "iteration 700 / 1500: loss 1.981634\n",
      "iteration 800 / 1500: loss 2.013946\n",
      "iteration 900 / 1500: loss 1.967542\n",
      "iteration 1000 / 1500: loss 2.041440\n",
      "iteration 1100 / 1500: loss 2.095174\n",
      "iteration 1200 / 1500: loss 2.100966\n",
      "iteration 1300 / 1500: loss 2.015609\n",
      "iteration 1400 / 1500: loss 2.002639\n",
      "iteration 0 / 1500: loss 309.387927\n",
      "iteration 100 / 1500: loss 7.208215\n",
      "iteration 200 / 1500: loss 2.054999\n",
      "iteration 300 / 1500: loss 2.004219\n",
      "iteration 400 / 1500: loss 1.907821\n",
      "iteration 500 / 1500: loss 2.068231\n",
      "iteration 600 / 1500: loss 2.050897\n",
      "iteration 700 / 1500: loss 2.046396\n",
      "iteration 800 / 1500: loss 1.970068\n",
      "iteration 900 / 1500: loss 2.020340\n",
      "iteration 1000 / 1500: loss 1.967855\n",
      "iteration 1100 / 1500: loss 1.926332\n",
      "iteration 1200 / 1500: loss 1.956138\n",
      "iteration 1300 / 1500: loss 2.060456\n",
      "iteration 1400 / 1500: loss 2.020124\n",
      "iteration 0 / 1500: loss 375.131496\n",
      "iteration 100 / 1500: loss 4.838321\n",
      "iteration 200 / 1500: loss 2.079354\n",
      "iteration 300 / 1500: loss 1.994673\n",
      "iteration 400 / 1500: loss 2.054281\n",
      "iteration 500 / 1500: loss 2.066697\n",
      "iteration 600 / 1500: loss 2.000336\n",
      "iteration 700 / 1500: loss 2.061374\n",
      "iteration 800 / 1500: loss 2.027465\n",
      "iteration 900 / 1500: loss 2.026911\n",
      "iteration 1000 / 1500: loss 1.962016\n",
      "iteration 1100 / 1500: loss 2.048630\n",
      "iteration 1200 / 1500: loss 2.022738\n",
      "iteration 1300 / 1500: loss 2.066623\n",
      "iteration 1400 / 1500: loss 2.037019\n",
      "lr 8.000000e-07 reg 1.000000e+04 train accuracy: 0.349837 val accuracy: 0.359000\n",
      "lr 8.000000e-07 reg 1.200000e+04 train accuracy: 0.348735 val accuracy: 0.359000\n",
      "lr 1.000000e-06 reg 1.000000e+04 train accuracy: 0.352204 val accuracy: 0.357000\n",
      "lr 1.000000e-06 reg 1.200000e+04 train accuracy: 0.340020 val accuracy: 0.338000\n",
      "best validation accuracy achieved during cross-validation: 0.359000\n"
     ]
    }
   ],
   "source": [
    "# Use the validation set to tune hyperparameters (regularization strength and\n",
    "# learning rate). You should experiment with different ranges for the learning\n",
    "# rates and regularization strengths; if you are careful you should be able to\n",
    "# get a classification accuracy of over 0.35 on the validation set.\n",
    "from cs231n.classifiers import Softmax\n",
    "results = {}\n",
    "best_val = -1\n",
    "best_softmax = None\n",
    "learning_rates = [8e-7, 1e-6]\n",
    "regularization_strengths = [1e4, 1.2e4]\n",
    "\n",
    "################################################################################\n",
    "# TODO:                                                                        #\n",
    "# Use the validation set to set the learning rate and regularization strength. #\n",
    "# This should be identical to the validation that you did for the SVM; save    #\n",
    "# the best trained softmax classifer in best_softmax.                          #\n",
    "################################################################################\n",
    "from itertools import product\n",
    "for lr, rs in product(learning_rates, regularization_strengths):\n",
    "    sm = Softmax()\n",
    "    loss_hist = sm.train(X_train, y_train, learning_rate=lr, reg=rs,\n",
    "                      num_iters=1500, verbose=True)\n",
    "    y_train_pred = sm.predict(X_train)\n",
    "    train_accu = np.mean(y_train == y_train_pred)\n",
    "    y_val_pred = sm.predict(X_val)\n",
    "    val_accu = np.mean(y_val == y_val_pred)\n",
    "    results[(lr, rs)] = (train_accu, val_accu)\n",
    "    if val_accu > best_val:\n",
    "        best_val = val_accu\n",
    "        best_softmax = sm\n",
    "pass\n",
    "################################################################################\n",
    "#                              END OF YOUR CODE                                #\n",
    "################################################################################\n",
    "    \n",
    "# Print out results.\n",
    "for lr, reg in sorted(results):\n",
    "    train_accuracy, val_accuracy = results[(lr, reg)]\n",
    "    print('lr %e reg %e train accuracy: %f val accuracy: %f' % (\n",
    "                lr, reg, train_accuracy, val_accuracy))\n",
    "    \n",
    "print('best validation accuracy achieved during cross-validation: %f' % best_val)"
   ]
  },
  {
   "cell_type": "code",
   "execution_count": 8,
   "metadata": {},
   "outputs": [
    {
     "name": "stdout",
     "output_type": "stream",
     "text": [
      "softmax on raw pixels final test set accuracy: 0.356000\n"
     ]
    }
   ],
   "source": [
    "# evaluate on test set\n",
    "# Evaluate the best softmax on test set\n",
    "y_test_pred = best_softmax.predict(X_test)\n",
    "test_accuracy = np.mean(y_test == y_test_pred)\n",
    "print('softmax on raw pixels final test set accuracy: %f' % (test_accuracy, ))"
   ]
  },
  {
   "cell_type": "code",
   "execution_count": 9,
   "metadata": {},
   "outputs": [
    {
     "data": {
      "image/png": "[encoded data removed]",
      "text/plain": [
       "<matplotlib.figure.Figure at 0x1930e178e80>"
      ]
     },
     "metadata": {},
     "output_type": "display_data"
    }
   ],
   "source": [
    "# Visualize the learned weights for each class\n",
    "w = best_softmax.W[:-1,:] # strip out the bias\n",
    "w = w.reshape(32, 32, 3, 10)\n",
    "\n",
    "w_min, w_max = np.min(w), np.max(w)\n",
    "\n",
    "classes = ['plane', 'car', 'bird', 'cat', 'deer', 'dog', 'frog', 'horse', 'ship', 'truck']\n",
    "for i in range(10):\n",
    "    plt.subplot(2, 5, i + 1)\n",
    "    \n",
    "    # Rescale the weights to be between 0 and 255\n",
    "    wimg = 255.0 * (w[:, :, :, i].squeeze() - w_min) / (w_max - w_min)\n",
    "    plt.imshow(wimg.astype('uint8'))\n",
    "    plt.axis('off')\n",
    "    plt.title(classes[i])"
   ]
  },
  {
   "cell_type": "code",
   "execution_count": null,
   "metadata": {
    "collapsed": true
   },
   "outputs": [],
   "source": []
  }
 ],
 "metadata": {
  "anaconda-cloud": {},
  "kernelspec": {
   "display_name": "Python [default]",
   "language": "python",
   "name": "python3"
  },
  "language_info": {
   "codemirror_mode": {
    "name": "ipython",
    "version": 3
   },
   "file_extension": ".py",
   "mimetype": "text/x-python",
   "name": "python",
   "nbconvert_exporter": "python",
   "pygments_lexer": "ipython3",
   "version": "3.5.2"
  }
 },
 "nbformat": 4,
 "nbformat_minor": 1
}
